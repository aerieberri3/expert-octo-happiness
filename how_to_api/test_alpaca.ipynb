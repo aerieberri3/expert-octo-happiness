{
 "cells": [
  {
   "cell_type": "code",
   "execution_count": 1,
   "id": "af4be364-3f1f-4676-ace3-364bf820acc0",
   "metadata": {},
   "outputs": [],
   "source": [
    "import os\n",
    "import numpy as np\n",
    "import pandas as pd\n",
    "import matplotlib.pyplot as plt\n",
    "import alpaca_trade_api as tradeapi\n",
    "\n",
    "\n",
    "%matplotlib inline"
   ]
  },
  {
   "cell_type": "code",
   "execution_count": 2,
   "id": "3def75bd-50e3-4e42-9418-2767aad2df3f",
   "metadata": {},
   "outputs": [
    {
     "data": {
      "text/plain": [
       "True"
      ]
     },
     "execution_count": 2,
     "metadata": {},
     "output_type": "execute_result"
    }
   ],
   "source": [
    "from dotenv import load_dotenv\n",
    "load_dotenv()"
   ]
  },
  {
   "cell_type": "code",
   "execution_count": 3,
   "id": "4264e836-ff8c-43ed-9bc7-25ed866b6a95",
   "metadata": {},
   "outputs": [],
   "source": [
    "alpaca_api_key = os.getenv(\"ALPACA_API_KEY\")\n",
    "alpaca_secret_key = os.getenv(\"ALPACA_SECRET_KEY\")"
   ]
  },
  {
   "cell_type": "code",
   "execution_count": 4,
   "id": "72602830-21a0-441f-93b5-90ebfe71a59c",
   "metadata": {},
   "outputs": [],
   "source": [
    "api = tradeapi.REST(\n",
    "    alpaca_api_key,\n",
    "    alpaca_secret_key,\n",
    "    api_version = \"v2\")"
   ]
  },
  {
   "cell_type": "code",
   "execution_count": 7,
   "id": "ec91d252-befa-4eda-8299-9b45a61a8a95",
   "metadata": {},
   "outputs": [
    {
     "data": {
      "text/html": [
       "<div>\n",
       "<style scoped>\n",
       "    .dataframe tbody tr th:only-of-type {\n",
       "        vertical-align: middle;\n",
       "    }\n",
       "\n",
       "    .dataframe tbody tr th {\n",
       "        vertical-align: top;\n",
       "    }\n",
       "\n",
       "    .dataframe thead tr th {\n",
       "        text-align: left;\n",
       "    }\n",
       "\n",
       "    .dataframe thead tr:last-of-type th {\n",
       "        text-align: right;\n",
       "    }\n",
       "</style>\n",
       "<table border=\"1\" class=\"dataframe\">\n",
       "  <thead>\n",
       "    <tr>\n",
       "      <th></th>\n",
       "      <th colspan=\"7\" halign=\"left\">SOL</th>\n",
       "    </tr>\n",
       "    <tr>\n",
       "      <th></th>\n",
       "      <th>open</th>\n",
       "      <th>high</th>\n",
       "      <th>low</th>\n",
       "      <th>close</th>\n",
       "      <th>volume</th>\n",
       "      <th>trade_count</th>\n",
       "      <th>vwap</th>\n",
       "    </tr>\n",
       "    <tr>\n",
       "      <th>timestamp</th>\n",
       "      <th></th>\n",
       "      <th></th>\n",
       "      <th></th>\n",
       "      <th></th>\n",
       "      <th></th>\n",
       "      <th></th>\n",
       "      <th></th>\n",
       "    </tr>\n",
       "  </thead>\n",
       "  <tbody>\n",
       "    <tr>\n",
       "      <th>2022-04-07 04:00:00+00:00</th>\n",
       "      <td>5.55</td>\n",
       "      <td>5.745</td>\n",
       "      <td>5.405</td>\n",
       "      <td>5.58</td>\n",
       "      <td>553970</td>\n",
       "      <td>3780</td>\n",
       "      <td>5.541060</td>\n",
       "    </tr>\n",
       "    <tr>\n",
       "      <th>2022-04-08 04:00:00+00:00</th>\n",
       "      <td>5.54</td>\n",
       "      <td>5.625</td>\n",
       "      <td>5.345</td>\n",
       "      <td>5.54</td>\n",
       "      <td>923978</td>\n",
       "      <td>5846</td>\n",
       "      <td>5.523884</td>\n",
       "    </tr>\n",
       "    <tr>\n",
       "      <th>2022-04-11 04:00:00+00:00</th>\n",
       "      <td>5.54</td>\n",
       "      <td>5.580</td>\n",
       "      <td>5.390</td>\n",
       "      <td>5.43</td>\n",
       "      <td>479351</td>\n",
       "      <td>3887</td>\n",
       "      <td>5.458733</td>\n",
       "    </tr>\n",
       "    <tr>\n",
       "      <th>2022-04-12 04:00:00+00:00</th>\n",
       "      <td>5.56</td>\n",
       "      <td>5.695</td>\n",
       "      <td>5.450</td>\n",
       "      <td>5.54</td>\n",
       "      <td>490409</td>\n",
       "      <td>3667</td>\n",
       "      <td>5.561751</td>\n",
       "    </tr>\n",
       "    <tr>\n",
       "      <th>2022-04-13 04:00:00+00:00</th>\n",
       "      <td>5.54</td>\n",
       "      <td>5.670</td>\n",
       "      <td>5.515</td>\n",
       "      <td>5.60</td>\n",
       "      <td>419202</td>\n",
       "      <td>2809</td>\n",
       "      <td>5.601877</td>\n",
       "    </tr>\n",
       "  </tbody>\n",
       "</table>\n",
       "</div>"
      ],
      "text/plain": [
       "                            SOL                                          \\\n",
       "                           open   high    low close  volume trade_count   \n",
       "timestamp                                                                 \n",
       "2022-04-07 04:00:00+00:00  5.55  5.745  5.405  5.58  553970        3780   \n",
       "2022-04-08 04:00:00+00:00  5.54  5.625  5.345  5.54  923978        5846   \n",
       "2022-04-11 04:00:00+00:00  5.54  5.580  5.390  5.43  479351        3887   \n",
       "2022-04-12 04:00:00+00:00  5.56  5.695  5.450  5.54  490409        3667   \n",
       "2022-04-13 04:00:00+00:00  5.54  5.670  5.515  5.60  419202        2809   \n",
       "\n",
       "                                     \n",
       "                               vwap  \n",
       "timestamp                            \n",
       "2022-04-07 04:00:00+00:00  5.541060  \n",
       "2022-04-08 04:00:00+00:00  5.523884  \n",
       "2022-04-11 04:00:00+00:00  5.458733  \n",
       "2022-04-12 04:00:00+00:00  5.561751  \n",
       "2022-04-13 04:00:00+00:00  5.601877  "
      ]
     },
     "execution_count": 7,
     "metadata": {},
     "output_type": "execute_result"
    }
   ],
   "source": [
    "ticker = [\"SOL\"]\n",
    "\n",
    "# Set timeframe to \"1Day\"\n",
    "timeframe = \"1Day\"\n",
    "\n",
    "# Set start and end datetimes of 4 years from Today\n",
    "start_date = pd.Timestamp(\"2022-04-07\", tz=\"America/New_York\").isoformat()\n",
    "end_date = pd.Timestamp(\"2023-04-07\", tz=\"America/New_York\").isoformat()\n",
    "\n",
    "# Get 1 year's worth of historical data for AAPL\n",
    "ticker_data_df = api.get_bars(\n",
    "    ticker,\n",
    "    timeframe,\n",
    "    start=start_date,\n",
    "    end=end_date\n",
    ").df\n",
    "\n",
    "\n",
    "SOL = ticker_data_df[ticker_data_df['symbol']=='SOL'].drop('symbol', axis=1)\n",
    "\n",
    "ticker_data_df = pd.concat([SOL],axis=1, keys=['SOL'])\n",
    "\n",
    "\n",
    "\n",
    "ticker_data_df.head()"
   ]
  },
  {
   "cell_type": "code",
   "execution_count": null,
   "id": "a5d3bd8f-6ae1-4e2c-8b6d-4ead347e6178",
   "metadata": {},
   "outputs": [],
   "source": []
  },
  {
   "cell_type": "code",
   "execution_count": null,
   "id": "e223adce-ec5c-4b39-8fad-d7c4b4447753",
   "metadata": {},
   "outputs": [],
   "source": []
  }
 ],
 "metadata": {
  "kernelspec": {
   "display_name": "Python 3 (ipykernel)",
   "language": "python",
   "name": "python3"
  },
  "language_info": {
   "codemirror_mode": {
    "name": "ipython",
    "version": 3
   },
   "file_extension": ".py",
   "mimetype": "text/x-python",
   "name": "python",
   "nbconvert_exporter": "python",
   "pygments_lexer": "ipython3",
   "version": "3.7.13"
  }
 },
 "nbformat": 4,
 "nbformat_minor": 5
}
